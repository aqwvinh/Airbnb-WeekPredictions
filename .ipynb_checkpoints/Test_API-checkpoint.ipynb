{
 "cells": [
  {
   "cell_type": "markdown",
   "metadata": {},
   "source": [
    "# Test API Heroku"
   ]
  },
  {
   "cell_type": "markdown",
   "metadata": {},
   "source": [
    "### Test on 5 samples"
   ]
  },
  {
   "cell_type": "code",
   "execution_count": 5,
   "metadata": {},
   "outputs": [],
   "source": [
    "#!pip install requests # to do HTTP request on python\n",
    "import pandas as pd\n",
    "\n",
    "dataset = pd.read_csv('../../data/df_encoded_blent.csv')\n",
    "X = dataset.drop('price', axis = 1)"
   ]
  },
  {
   "cell_type": "code",
   "execution_count": 6,
   "metadata": {},
   "outputs": [
    {
     "data": {
      "text/plain": [
       "b'{\"prices\":[160.40359497070312,46.003719329833984,125.93807220458984,44.706207275390625,128.5386962890625]}\\n'"
      ]
     },
     "execution_count": 6,
     "metadata": {},
     "output_type": "execute_result"
    }
   ],
   "source": [
    "import json\n",
    "import requests\n",
    "\n",
    "reponse = requests.get(\"https://api-data-scientist-vinh-airbnb.herokuapp.com/price\", #Heroku URL here\n",
    "                      json = {\"data\": X.sample(5).values.flatten().tolist() #data cuz it's the name given in the code. Need flatten\n",
    "                             }\n",
    "                      )\n",
    "reponse.content"
   ]
  },
  {
   "cell_type": "code",
   "execution_count": 7,
   "metadata": {},
   "outputs": [
    {
     "data": {
      "text/plain": [
       "[160.40359497070312,\n",
       " 46.003719329833984,\n",
       " 125.93807220458984,\n",
       " 44.706207275390625,\n",
       " 128.5386962890625]"
      ]
     },
     "execution_count": 7,
     "metadata": {},
     "output_type": "execute_result"
    }
   ],
   "source": [
    "# Get only prices values\n",
    "reponse.json()['prices']"
   ]
  },
  {
   "cell_type": "code",
   "execution_count": null,
   "metadata": {},
   "outputs": [],
   "source": []
  }
 ],
 "metadata": {
  "kernelspec": {
   "display_name": "Python 3",
   "language": "python",
   "name": "python3"
  },
  "language_info": {
   "codemirror_mode": {
    "name": "ipython",
    "version": 3
   },
   "file_extension": ".py",
   "mimetype": "text/x-python",
   "name": "python",
   "nbconvert_exporter": "python",
   "pygments_lexer": "ipython3",
   "version": "3.8.3"
  }
 },
 "nbformat": 4,
 "nbformat_minor": 4
}
